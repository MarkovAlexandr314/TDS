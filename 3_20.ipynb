{
 "cells": [
  {
   "cell_type": "code",
   "execution_count": 4,
   "metadata": {},
   "outputs": [
    {
     "name": "stderr",
     "output_type": "stream",
     "text": [
      "<>:27: SyntaxWarning: invalid escape sequence '\\m'\n",
      "<>:52: SyntaxWarning: invalid escape sequence '\\m'\n",
      "<>:27: SyntaxWarning: invalid escape sequence '\\m'\n",
      "<>:52: SyntaxWarning: invalid escape sequence '\\m'\n",
      "C:\\Users\\User\\AppData\\Local\\Temp\\ipykernel_18328\\1051510251.py:27: SyntaxWarning: invalid escape sequence '\\m'\n",
      "  plt.title(f\"Седло-узел ($\\mu = {mu:.2f}$)\");\n",
      "C:\\Users\\User\\AppData\\Local\\Temp\\ipykernel_18328\\1051510251.py:52: SyntaxWarning: invalid escape sequence '\\m'\n",
      "  plt.title(f\"Вилка ($\\mu = {mu:.2f}$)\");\n"
     ]
    },
    {
     "data": {
      "application/vnd.jupyter.widget-view+json": {
       "model_id": "71dc94d3070a4794ab6ba8a574230492",
       "version_major": 2,
       "version_minor": 0
      },
      "text/plain": [
       "interactive(children=(FloatSlider(value=0.0, continuous_update=False, description='μ parameter:', max=1.0, min…"
      ]
     },
     "metadata": {},
     "output_type": "display_data"
    }
   ],
   "source": [
    "import numpy as np\n",
    "import matplotlib.pyplot as plt\n",
    "from ipywidgets import interact, FloatSlider\n",
    "\n",
    "def update_saddle_node(mu, y_sign=-1):\n",
    "    \"\"\"Обновление графика седло-узла\"\"\"\n",
    "    plt.figure(figsize=(12, 5))\n",
    "    \n",
    "    # Седло-узел\n",
    "    plt.subplot(1, 2, 1)\n",
    "    x = np.linspace(-3, 3, 30)\n",
    "    y = np.linspace(-1.5, 1.5, 20)\n",
    "    X, Y = np.meshgrid(x, y)\n",
    "    \n",
    "    DX = mu + X**2\n",
    "    DY = y_sign * Y\n",
    "    \n",
    "    plt.streamplot(X, Y, DX, DY, color='gray', density=1.5)\n",
    "    \n",
    "    # Точки равновесия\n",
    "    if mu < 0:\n",
    "        plt.plot(-np.sqrt(-mu), 0, 'go', markersize=10, label='Устойчивый узел')\n",
    "        plt.plot(np.sqrt(-mu), 0, 'ro', markersize=10, label='Седло')\n",
    "    elif mu == 0:\n",
    "        plt.plot(0, 0, 'o', color='orange', markersize=10, label='Седло-узел')\n",
    "    \n",
    "    plt.title(f\"Седло-узел ($\\mu = {mu:.2f}$)\");\n",
    "    plt.xlim(-3, 3)\n",
    "    plt.ylim(-1.5, 1.5)\n",
    "    plt.legend()\n",
    "\n",
    "def update_pitchfork(mu):\n",
    "    \"\"\"Обновление графика вилки\"\"\"\n",
    "    plt.subplot(1, 2, 2)\n",
    "    x = np.linspace(-2, 2, 30)\n",
    "    y = np.linspace(-1, 1, 20)\n",
    "    X, Y = np.meshgrid(x, y)\n",
    "    \n",
    "    DX = mu*X - X**3\n",
    "    DY = -Y\n",
    "    \n",
    "    plt.streamplot(X, Y, DX, DY, color='gray', density=1.5)\n",
    "    \n",
    "    # Точки равновесия\n",
    "    if mu <= 0:\n",
    "        plt.plot(0, 0, 'go', markersize=10, label='Устойчивый узел')\n",
    "    else:\n",
    "        plt.plot(0, 0, 'ro', markersize=10, label='Седло')\n",
    "        plt.plot(np.sqrt(mu), 0, 'go', markersize=10)\n",
    "        plt.plot(-np.sqrt(mu), 0, 'go', markersize=10)\n",
    "    \n",
    "    plt.title(f\"Вилка ($\\mu = {mu:.2f}$)\");\n",
    "    plt.xlim(-2, 2)\n",
    "    plt.ylim(-1, 1)\n",
    "    plt.legend()\n",
    "    plt.tight_layout()\n",
    "\n",
    "@interact(mu=FloatSlider(\n",
    "    value=0.0,\n",
    "    min=-1.0,\n",
    "    max=1.0,\n",
    "    step=0.1,\n",
    "    description='μ parameter:',\n",
    "    continuous_update=False\n",
    "))\n",
    "def update_plots(mu):\n",
    "    plt.close('all')\n",
    "    update_saddle_node(mu)\n",
    "    update_pitchfork(mu)\n",
    "    plt.show()"
   ]
  }
 ],
 "metadata": {
  "kernelspec": {
   "display_name": "Python 3",
   "language": "python",
   "name": "python3"
  },
  "language_info": {
   "codemirror_mode": {
    "name": "ipython",
    "version": 3
   },
   "file_extension": ".py",
   "mimetype": "text/x-python",
   "name": "python",
   "nbconvert_exporter": "python",
   "pygments_lexer": "ipython3",
   "version": "3.13.2"
  },
  "orig_nbformat": 4
 },
 "nbformat": 4,
 "nbformat_minor": 2
}
